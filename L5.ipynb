{
 "cells": [
  {
   "cell_type": "code",
   "execution_count": 66,
   "id": "4c9fd637",
   "metadata": {},
   "outputs": [],
   "source": [
    "class human():\n",
    "    OpenDatabase =[]\n",
    "    population = 0\n",
    "    id_sequence = 101\n",
    "    \n",
    "    def __init__(self, name, age, is_alive=True):\n",
    "        self.is_alive = is_alive\n",
    "        self.name = name\n",
    "        self.age = age\n",
    "        self.id = human.id_sequence\n",
    "        human.id_sequence += 1    \n",
    "        human.population += 1\n",
    "        human.OpenDatabase.append(self)\n",
    "    \n",
    "    def introduce(self):\n",
    "        print(\"hi, my name is\", self.name, \"and my age is\", self.age)\n",
    "        \n",
    "    \n",
    "    def die(self):\n",
    "      if self.is_alive == True:\n",
    "        self.is_alive = True\n",
    "        human.population -= 1\n",
    "        print(self.name, \"is dead\")\n",
    "      else:\n",
    "        print(self.name, \"is already dead\")  \n",
    "        \n",
    "    def __repr__(self):\n",
    "        return f\"({self.name}, {self.age}, {self.is_alive})\""
   ]
  },
  {
   "cell_type": "code",
   "execution_count": 67,
   "id": "93b1d311",
   "metadata": {},
   "outputs": [],
   "source": [
    "class hitman(human):\n",
    "    def __init__(self, name, age, is_alive=True):\n",
    "        super().__init__(name, age, is_alive)\n",
    "        self.kills = 0\n",
    "        self.killlist = []\n",
    "        \n",
    "    def kill(self, target):\n",
    "        if target.is_alive == True:\n",
    "            target.die()\n",
    "            self.kills += 1\n",
    "            self.killlist.append(target)\n",
    "            print(self.name, \"killed\", target.name)\n",
    "        else:\n",
    "            print(target.name, \"is already dead\")"
   ]
  },
  {
   "cell_type": "code",
   "execution_count": 68,
   "id": "ec808a7a",
   "metadata": {},
   "outputs": [],
   "source": [
    "h1= human(\"John\", 30, True)\n",
    "h2= human(\"Jane\", 25, True)\n",
    "h3= human(\"Doe\", 40, False)\n",
    "h4= human(\"Smith\", 35, True)"
   ]
  },
  {
   "cell_type": "code",
   "execution_count": 69,
   "id": "b52cdfd8",
   "metadata": {},
   "outputs": [
    {
     "data": {
      "text/plain": [
       "4"
      ]
     },
     "execution_count": 69,
     "metadata": {},
     "output_type": "execute_result"
    }
   ],
   "source": [
    "human.population"
   ]
  },
  {
   "cell_type": "code",
   "execution_count": 70,
   "id": "d400753d",
   "metadata": {},
   "outputs": [
    {
     "data": {
      "text/plain": [
       "[(John, 30, True), (Jane, 25, True), (Doe, 40, False), (Smith, 35, True)]"
      ]
     },
     "execution_count": 70,
     "metadata": {},
     "output_type": "execute_result"
    }
   ],
   "source": [
    "human.OpenDatabase"
   ]
  },
  {
   "cell_type": "code",
   "execution_count": 71,
   "id": "f4d75d3d",
   "metadata": {},
   "outputs": [
    {
     "data": {
      "text/plain": [
       "4"
      ]
     },
     "execution_count": 71,
     "metadata": {},
     "output_type": "execute_result"
    }
   ],
   "source": [
    "human.population"
   ]
  },
  {
   "cell_type": "code",
   "execution_count": 72,
   "id": "fd082aec",
   "metadata": {},
   "outputs": [],
   "source": [
    "bound =hitman(\"Bound\", 28)"
   ]
  },
  {
   "cell_type": "code",
   "execution_count": 73,
   "id": "15d4236d",
   "metadata": {},
   "outputs": [
    {
     "name": "stdout",
     "output_type": "stream",
     "text": [
      "hi, my name is James Bond and my age is 45\n",
      "None\n"
     ]
    }
   ],
   "source": [
    "print(bond.introduce())"
   ]
  },
  {
   "cell_type": "code",
   "execution_count": 81,
   "id": "7a0a7ebc",
   "metadata": {},
   "outputs": [
    {
     "name": "stdout",
     "output_type": "stream",
     "text": [
      "Doe is already dead\n",
      "John is dead\n",
      "Bound killed John\n"
     ]
    }
   ],
   "source": [
    "bound.kill(h3)\n",
    "bound.kill(h1)"
   ]
  },
  {
   "cell_type": "code",
   "execution_count": 78,
   "id": "2189f34f",
   "metadata": {},
   "outputs": [
    {
     "data": {
      "text/plain": [
       "4"
      ]
     },
     "execution_count": 78,
     "metadata": {},
     "output_type": "execute_result"
    }
   ],
   "source": [
    "human.population"
   ]
  },
  {
   "cell_type": "code",
   "execution_count": 80,
   "id": "35b68f78",
   "metadata": {},
   "outputs": [
    {
     "name": "stdout",
     "output_type": "stream",
     "text": [
      "hi, my name is John and my age is 30\n"
     ]
    }
   ],
   "source": [
    "h1.introduce()"
   ]
  },
  {
   "cell_type": "code",
   "execution_count": null,
   "id": "c75a2e13",
   "metadata": {},
   "outputs": [],
   "source": []
  }
 ],
 "metadata": {
  "kernelspec": {
   "display_name": "base",
   "language": "python",
   "name": "python3"
  },
  "language_info": {
   "codemirror_mode": {
    "name": "ipython",
    "version": 3
   },
   "file_extension": ".py",
   "mimetype": "text/x-python",
   "name": "python",
   "nbconvert_exporter": "python",
   "pygments_lexer": "ipython3",
   "version": "3.12.7"
  }
 },
 "nbformat": 4,
 "nbformat_minor": 5
}
