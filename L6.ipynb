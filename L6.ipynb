{
 "cells": [
  {
   "cell_type": "code",
   "execution_count": 10,
   "id": "2dd7b281",
   "metadata": {},
   "outputs": [],
   "source": [
    " class human():\n",
    "\t\tOpenDatabase =[]\n",
    "\t\tpopulation = 0\n",
    "\t\tid_sequence = 101\n",
    "\t\t\n",
    "\t\tdef __init__(self, name, age, is_alive=True):\n",
    "\t\t\t\tself.is_alive = is_alive\n",
    "\t\t\t\tself.name = name\n",
    "\t\t\t\tself.age = age\n",
    "\t\t\t\tself.id = human.id_sequence\n",
    "\t\t\t\thuman.id_sequence += 1    \n",
    "\t\t\t\thuman.population += 1\n",
    "\t\t\t\thuman.OpenDatabase.append(self)\n",
    "\t\t\n",
    "\t\tdef introduce(self):\n",
    "\t\t\t\tprint(\"hi, my name is\", self.name, \"and my age is\", self.age)\n",
    "\t\t\t\t\n",
    "\t\t\n",
    "\t\tdef die(self):\n",
    "\t\t\tif self.is_alive == True:\n",
    "\t\t\t\tself.is_alive = True\n",
    "\t\t\t\thuman.population -= 1\n",
    "\t\t\t\tprint(self.name, \"is dead\")\n",
    "\t\t\telse:\n",
    "\t\t\t\tprint(self.name, \"is already dead\")  \n",
    "\t\t\t\t\n",
    "\t\tdef __repr__(self):\n",
    "\t\t\t\treturn f\"({self.name}, {self.age}, {self.is_alive})\""
   ]
  },
  {
   "cell_type": "code",
   "execution_count": 11,
   "id": "e17c5644",
   "metadata": {},
   "outputs": [],
   "source": [
    "class hitman(human):\n",
    "\tdef __init__(self, name, age, is_alive=True):\n",
    "\t\tsuper().__init__(name, age, is_alive)\n",
    "\t\tself.kills = 0\n",
    "\t\tself.killlist = []\n",
    "\t\t\n",
    "\tdef kill(self, target):\n",
    "\t\tif target.is_alive == True:\n",
    "\t\t\ttarget.die()\n",
    "\t\t\tself.kills += 1\n",
    "\t\t\tself.killlist.append(target)\n",
    "\t\t\tprint(self.name, \"killed\", target.name)\n",
    "\t\telse:\n",
    "\t\t\tprint(target.name, \"is already dead\")\n",
    "\t\t\t\n",
    "\tdef __repr__(self):\n",
    "\t\treturn f\"hi my name is {self.name}, i have killed {self.kills} people, and my kill list is {self.killlist}\""
   ]
  },
  {
   "cell_type": "code",
   "execution_count": 16,
   "id": "90ae6fd4",
   "metadata": {},
   "outputs": [],
   "source": [
    "h1= human(\"John\", 30)\n",
    "h2= human(\"Jane\", 25)   \n",
    "h3= human(\"Doe\", 40)"
   ]
  },
  {
   "cell_type": "code",
   "execution_count": 18,
   "id": "cddb8127",
   "metadata": {},
   "outputs": [
    {
     "name": "stdout",
     "output_type": "stream",
     "text": [
      "John is dead\n",
      "James Bond killed John\n",
      "Jane is dead\n",
      "James Bond killed Jane\n"
     ]
    }
   ],
   "source": [
    "bond= hitman(\"James Bond\", 35)\n",
    "bond.kill(h1)\n",
    "bond.kill(h2)"
   ]
  },
  {
   "cell_type": "code",
   "execution_count": 19,
   "id": "a391bb6c",
   "metadata": {},
   "outputs": [
    {
     "data": {
      "text/plain": [
       "hi my name is James Bond, i have killed 2 people, and my kill list is [(John, 30, True), (Jane, 25, True)]"
      ]
     },
     "execution_count": 19,
     "metadata": {},
     "output_type": "execute_result"
    }
   ],
   "source": [
    "bond"
   ]
  },
  {
   "cell_type": "code",
   "execution_count": 20,
   "id": "872ffd9a",
   "metadata": {},
   "outputs": [
    {
     "data": {
      "text/plain": [
       "4"
      ]
     },
     "execution_count": 20,
     "metadata": {},
     "output_type": "execute_result"
    }
   ],
   "source": [
    "human.population"
   ]
  },
  {
   "cell_type": "code",
   "execution_count": null,
   "id": "ca0afc21",
   "metadata": {},
   "outputs": [],
   "source": []
  }
 ],
 "metadata": {
  "kernelspec": {
   "display_name": "base",
   "language": "python",
   "name": "python3"
  },
  "language_info": {
   "codemirror_mode": {
    "name": "ipython",
    "version": 3
   },
   "file_extension": ".py",
   "mimetype": "text/x-python",
   "name": "python",
   "nbconvert_exporter": "python",
   "pygments_lexer": "ipython3",
   "version": "3.12.7"
  }
 },
 "nbformat": 4,
 "nbformat_minor": 5
}
