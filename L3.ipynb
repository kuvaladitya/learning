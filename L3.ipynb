{
 "cells": [
  {
   "cell_type": "code",
   "execution_count": 48,
   "metadata": {},
   "outputs": [],
   "source": [
    "class intro():\n",
    "    def __init__(self, name, age):\n",
    "        print(\"creating an object\")\n",
    "        self.name = name\n",
    "        self.age = age\n",
    "        self.introduce()\n",
    "    \n",
    "    def introduce(self):\n",
    "        print(\"hi, my name is\", self.name, \"and my age is\", self.age)"
   ]
  },
  {
   "cell_type": "code",
   "execution_count": 139,
   "metadata": {},
   "outputs": [
    {
     "name": "stdout",
     "output_type": "stream",
     "text": [
      "creating an object\n",
      "hi, my name is jitesh and my age is 21\n",
      "hi, my name is jitesh and my age is 21\n",
      "creating an object\n",
      "hi, my name is bitu and my age is 23\n",
      "hi, my name is bitu and my age is 23\n"
     ]
    }
   ],
   "source": [
    "person = intro(\"jitesh\", 21)\n",
    "person.introduce()\n",
    "person = intro(\"bitu\", 23)\n",
    "person.introduce()"
   ]
  },
  {
   "cell_type": "code",
   "execution_count": 116,
   "metadata": {},
   "outputs": [],
   "source": [
    "from tabulate import tabulate\n",
    "\n",
    "class human():\n",
    "    OpenDatabase =[]\n",
    "    population = 0\n",
    "    id_sequence = 101\n",
    "    \n",
    "    def __init__(self, name, age, is_alive=True):\n",
    "        self.is_alive = is_alive\n",
    "        self.name = name\n",
    "        self.age = age\n",
    "        self.id = human.id_sequence\n",
    "        human.id_sequence += 1    \n",
    "        human.population += 1\n",
    "        human.OpenDatabase.append(self)\n",
    "    \n",
    "    def introduce(self):\n",
    "        print(\"hi, my name is\", self.name, \"and my age is\", self.age) "
   ]
  },
  {
   "cell_type": "code",
   "execution_count": 141,
   "metadata": {},
   "outputs": [],
   "source": [
    "h1 = human(\"mohit\", 23, True)\n",
    "h2 = human(\"kuval\", 21, True)\n",
    "h3 = human(\"sahil\", 22, True)\n",
    "h4 = human(\"rahul\", 12, False)\n",
    "h5 = human(\"shell\", 32, True)\n",
    "h6 = human(\"niks\", 18, True)\n",
    "h7 = human(\"rahul\", 19, True)"
   ]
  },
  {
   "cell_type": "code",
   "execution_count": 142,
   "metadata": {},
   "outputs": [
    {
     "name": "stdout",
     "output_type": "stream",
     "text": [
      "+--------+-------+------+------------+\n",
      "| Name   |   Age |   ID | Is Alive   |\n",
      "+========+=======+======+============+\n",
      "| mohit  |    23 |  101 | True       |\n",
      "+--------+-------+------+------------+\n",
      "| kuval  |    21 |  102 | True       |\n",
      "+--------+-------+------+------------+\n",
      "| sahil  |    22 |  103 | True       |\n",
      "+--------+-------+------+------------+\n",
      "| rahul  |    12 |  104 | False      |\n",
      "+--------+-------+------+------------+\n",
      "| shell  |    32 |  105 | True       |\n",
      "+--------+-------+------+------------+\n",
      "| niks   |    18 |  106 | True       |\n",
      "+--------+-------+------+------------+\n",
      "| mohit  |    23 |  107 | True       |\n",
      "+--------+-------+------+------------+\n",
      "| kuval  |    21 |  108 | True       |\n",
      "+--------+-------+------+------------+\n",
      "| sahil  |    22 |  109 | True       |\n",
      "+--------+-------+------+------------+\n",
      "| rahul  |    12 |  110 | False      |\n",
      "+--------+-------+------+------------+\n",
      "| shell  |    32 |  111 | True       |\n",
      "+--------+-------+------+------------+\n",
      "| niks   |    18 |  112 | True       |\n",
      "+--------+-------+------+------------+\n",
      "| rahul  |    19 |  113 | True       |\n",
      "+--------+-------+------+------------+\n",
      "| mohit  |    23 |  114 | True       |\n",
      "+--------+-------+------+------------+\n",
      "| kuval  |    21 |  115 | True       |\n",
      "+--------+-------+------+------------+\n",
      "| sahil  |    22 |  116 | True       |\n",
      "+--------+-------+------+------------+\n",
      "| rahul  |    12 |  117 | False      |\n",
      "+--------+-------+------+------------+\n",
      "| shell  |    32 |  118 | True       |\n",
      "+--------+-------+------+------------+\n",
      "| niks   |    18 |  119 | True       |\n",
      "+--------+-------+------+------------+\n",
      "| rahul  |    19 |  120 | True       |\n",
      "+--------+-------+------+------------+\n",
      "\n",
      "Population Details:\n",
      "Population: 20\n"
     ]
    }
   ],
   "source": [
    "data = [[human.name, human.age, human.id, human.is_alive] for human in human.OpenDatabase]\n",
    "\n",
    "headers = [\"Name\", \"Age\", \"ID\", \"Is Alive\"]\n",
    "\n",
    "print(tabulate(data, headers=headers, tablefmt= \"grid\"))\n",
    "\n",
    "\n",
    "print(\"\\nPopulation Details:\")\n",
    "print(\"Population:\", human.population)\n"
   ]
  },
  {
   "cell_type": "code",
   "execution_count": 135,
   "metadata": {},
   "outputs": [
    {
     "name": "stdout",
     "output_type": "stream",
     "text": [
      "21\n",
      "kuval\n"
     ]
    }
   ],
   "source": [
    "print(h2.age)\n",
    "print(h2.name)"
   ]
  },
  {
   "cell_type": "code",
   "execution_count": 18,
   "metadata": {},
   "outputs": [],
   "source": [
    "from tabulate import tabulate\n",
    "\n",
    "class human():\n",
    "    OpenDatabase =[]\n",
    "    population = 0\n",
    "    id_sequence = 101\n",
    "    \n",
    "    def __init__(self, name, age, is_alive=True):\n",
    "        self.is_alive = is_alive\n",
    "        self.name = name\n",
    "        self.age = age\n",
    "        self.id = human.id_sequence\n",
    "        human.id_sequence += 1    \n",
    "        human.population += 1\n",
    "        human.OpenDatabase.append(self)\n",
    "    \n",
    "    def introduce(self):\n",
    "        print(\"hi, my name is\", self.name, \"and my age is\", self.age)\n",
    "        \n",
    "    \n",
    "    def die(self):\n",
    "      if self.is_alive == False:\n",
    "        self.is_alive = False\n",
    "        human.population -= 1\n",
    "        print(self.name, \"is dead\")\n",
    "      else:\n",
    "        print(self.name, \"is already dead\")  "
   ]
  },
  {
   "cell_type": "code",
   "execution_count": 19,
   "metadata": {},
   "outputs": [],
   "source": [
    "h1= human(\"sahil\", 22, True)\n",
    "h2= human(\"rahul\", 12, False)"
   ]
  },
  {
   "cell_type": "code",
   "execution_count": 20,
   "metadata": {},
   "outputs": [
    {
     "data": {
      "text/plain": [
       "2"
      ]
     },
     "execution_count": 20,
     "metadata": {},
     "output_type": "execute_result"
    }
   ],
   "source": [
    "human.population"
   ]
  },
  {
   "cell_type": "code",
   "execution_count": 22,
   "metadata": {},
   "outputs": [
    {
     "name": "stdout",
     "output_type": "stream",
     "text": [
      "sahil is dead\n"
     ]
    }
   ],
   "source": [
    "h3.die()"
   ]
  },
  {
   "cell_type": "code",
   "execution_count": 23,
   "metadata": {},
   "outputs": [
    {
     "data": {
      "text/plain": [
       "1"
      ]
     },
     "execution_count": 23,
     "metadata": {},
     "output_type": "execute_result"
    }
   ],
   "source": [
    "human.population"
   ]
  },
  {
   "cell_type": "code",
   "execution_count": null,
   "metadata": {},
   "outputs": [],
   "source": []
  }
 ],
 "metadata": {
  "kernelspec": {
   "display_name": "base",
   "language": "python",
   "name": "python3"
  },
  "language_info": {
   "codemirror_mode": {
    "name": "ipython",
    "version": 3
   },
   "file_extension": ".py",
   "mimetype": "text/x-python",
   "name": "python",
   "nbconvert_exporter": "python",
   "pygments_lexer": "ipython3",
   "version": "3.12.7"
  }
 },
 "nbformat": 4,
 "nbformat_minor": 2
}
