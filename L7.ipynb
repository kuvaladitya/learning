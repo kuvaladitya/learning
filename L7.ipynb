{
 "cells": [
  {
   "cell_type": "code",
   "execution_count": 2,
   "id": "23d3ecb6",
   "metadata": {},
   "outputs": [],
   "source": [
    "marks =[17, 18, 19, 20, 21,18, 22, 23, 24, 25, 26, 22, 23, 24, 25, 26, 18, 19, 20, 21, 18, 19, 20, 21]"
   ]
  },
  {
   "cell_type": "code",
   "execution_count": 3,
   "id": "1cc49e96",
   "metadata": {},
   "outputs": [
    {
     "name": "stdout",
     "output_type": "stream",
     "text": [
      "[17, 18, 18, 18, 18, 19, 19, 19, 20, 20, 20, 21, 21, 21, 22, 22, 23, 23, 24, 24, 25, 25, 26, 26]\n"
     ]
    }
   ],
   "source": [
    "print( sorted(marks))"
   ]
  },
  {
   "cell_type": "code",
   "execution_count": 4,
   "id": "ab137df3",
   "metadata": {},
   "outputs": [
    {
     "name": "stdout",
     "output_type": "stream",
     "text": [
      "mean_marks = 21\n"
     ]
    }
   ],
   "source": [
    "mean_marks = sum(marks) / len(marks)\n",
    "print(\"mean_marks =\" ,round( mean_marks))"
   ]
  },
  {
   "cell_type": "code",
   "execution_count": 5,
   "id": "dc1fb40e",
   "metadata": {},
   "outputs": [
    {
     "name": "stdout",
     "output_type": "stream",
     "text": [
      "median_marks = 22.5\n"
     ]
    }
   ],
   "source": [
    "n = len(marks)\n",
    "if n%2 ==0:\n",
    "    median_marks = (marks[len(marks) // 2] + marks[len(marks) // 2 - 1]) / 2\n",
    "else:\n",
    "\tmedian_marks = marks[len(marks) // 2]\n",
    "print(\"median_marks =\", median_marks)"
   ]
  },
  {
   "cell_type": "code",
   "execution_count": 6,
   "id": "d0526492",
   "metadata": {},
   "outputs": [
    {
     "name": "stdout",
     "output_type": "stream",
     "text": [
      "{17: 1, 18: 4, 19: 3, 20: 3, 21: 3, 22: 2, 23: 2, 24: 2, 25: 2, 26: 2}\n"
     ]
    }
   ],
   "source": [
    "dic = {}\n",
    "\n",
    "for i in marks:\n",
    "\tif i in dic:\n",
    "\t\tdic[i] += 1\n",
    "\telse:\n",
    "\t\tdic[i] = 1\n",
    "\n",
    "print(dic)"
   ]
  },
  {
   "cell_type": "code",
   "execution_count": 7,
   "id": "0b849e71",
   "metadata": {},
   "outputs": [
    {
     "name": "stdout",
     "output_type": "stream",
     "text": [
      "17 1\n",
      "18 4\n",
      "19 3\n",
      "20 3\n",
      "21 3\n",
      "22 2\n",
      "23 2\n",
      "24 2\n",
      "25 2\n",
      "26 2\n"
     ]
    }
   ],
   "source": [
    "for k,v in dic.items():\n",
    "    print(k, v)"
   ]
  },
  {
   "cell_type": "code",
   "execution_count": 8,
   "id": "985ca2c8",
   "metadata": {},
   "outputs": [
    {
     "name": "stdout",
     "output_type": "stream",
     "text": [
      "Mode is 18\n"
     ]
    }
   ],
   "source": [
    "if v == 1:\n",
    "\tprint(\"No mode\")\n",
    "elif v > 1:\n",
    "    maximum = max(dic.values())\n",
    "for k, v in dic.items():\n",
    "\t\tif v == maximum:\n",
    "\t\t\tprint(\"Mode is\", k)"
   ]
  },
  {
   "cell_type": "code",
   "execution_count": 9,
   "id": "f9a11527",
   "metadata": {},
   "outputs": [
    {
     "name": "stdout",
     "output_type": "stream",
     "text": [
      "Range is 9\n"
     ]
    }
   ],
   "source": [
    "range= max(marks) - min(marks)\n",
    "print(\"Range is\", range)"
   ]
  },
  {
   "cell_type": "code",
   "execution_count": null,
   "id": "e79ea1f4",
   "metadata": {},
   "outputs": [
    {
     "ename": "TypeError",
     "evalue": "'int' object is not callable",
     "output_type": "error",
     "traceback": [
      "\u001b[1;31m---------------------------------------------------------------------------\u001b[0m",
      "\u001b[1;31mTypeError\u001b[0m                                 Traceback (most recent call last)",
      "Cell \u001b[1;32mIn[28], line 2\u001b[0m\n\u001b[0;32m      1\u001b[0m sum_ \u001b[38;5;241m=\u001b[39m \u001b[38;5;241m0\u001b[39m\n\u001b[1;32m----> 2\u001b[0m \u001b[38;5;28;01mfor\u001b[39;00m i \u001b[38;5;129;01min\u001b[39;00m \u001b[38;5;28mrange\u001b[39m(\u001b[38;5;28mlen\u001b[39m(marks)):\n\u001b[0;32m      3\u001b[0m \tsum_ \u001b[38;5;241m+\u001b[39m\u001b[38;5;241m=\u001b[39m (marks[i] \u001b[38;5;241m-\u001b[39m \u001b[38;5;28mround\u001b[39m(mean_marks))\u001b[38;5;241m*\u001b[39m\u001b[38;5;241m*\u001b[39m\u001b[38;5;241m2\u001b[39m\n",
      "\u001b[1;31mTypeError\u001b[0m: 'int' object is not callable"
     ]
    },
    {
     "ename": "",
     "evalue": "",
     "output_type": "error",
     "traceback": [
      "\u001b[1;31mThe Kernel crashed while executing code in the current cell or a previous cell. \n",
      "\u001b[1;31mPlease review the code in the cell(s) to identify a possible cause of the failure. \n",
      "\u001b[1;31mClick <a href='https://aka.ms/vscodeJupyterKernelCrash'>here</a> for more info. \n",
      "\u001b[1;31mView Jupyter <a href='command:jupyter.viewOutput'>log</a> for further details."
     ]
    }
   ],
   "source": [
    "sum_ = 0\n",
    "for i in range(len(marks)):\n",
    "\tsum_ += (marks[i] - round(mean_marks))**2"
   ]
  },
  {
   "cell_type": "code",
   "execution_count": 13,
   "id": "227f1a7b",
   "metadata": {},
   "outputs": [
    {
     "name": "stdout",
     "output_type": "stream",
     "text": [
      "Variance is 0.0\n"
     ]
    }
   ],
   "source": [
    "variance = sum_ / len(marks)\n",
    "print(\"Variance is\", variance)"
   ]
  },
  {
   "cell_type": "code",
   "execution_count": 14,
   "id": "d04eaae9",
   "metadata": {},
   "outputs": [],
   "source": [
    "std = variance**0.5"
   ]
  },
  {
   "cell_type": "code",
   "execution_count": 15,
   "id": "4215e2b9",
   "metadata": {},
   "outputs": [
    {
     "data": {
      "text/plain": [
       "0.0"
      ]
     },
     "execution_count": 15,
     "metadata": {},
     "output_type": "execute_result"
    }
   ],
   "source": [
    "std"
   ]
  },
  {
   "cell_type": "code",
   "execution_count": 16,
   "id": "abe8d2ef",
   "metadata": {},
   "outputs": [
    {
     "data": {
      "text/plain": [
       "[17,\n",
       " 18,\n",
       " 19,\n",
       " 20,\n",
       " 21,\n",
       " 18,\n",
       " 22,\n",
       " 23,\n",
       " 24,\n",
       " 25,\n",
       " 26,\n",
       " 22,\n",
       " 23,\n",
       " 24,\n",
       " 25,\n",
       " 26,\n",
       " 18,\n",
       " 19,\n",
       " 20,\n",
       " 21,\n",
       " 18,\n",
       " 19,\n",
       " 20,\n",
       " 21]"
      ]
     },
     "execution_count": 16,
     "metadata": {},
     "output_type": "execute_result"
    }
   ],
   "source": [
    "marks"
   ]
  },
  {
   "cell_type": "code",
   "execution_count": 27,
   "id": "ccbb7afd",
   "metadata": {},
   "outputs": [
    {
     "ename": "ZeroDivisionError",
     "evalue": "float division by zero",
     "output_type": "error",
     "traceback": [
      "\u001b[1;31m---------------------------------------------------------------------------\u001b[0m",
      "\u001b[1;31mZeroDivisionError\u001b[0m                         Traceback (most recent call last)",
      "Cell \u001b[1;32mIn[27], line 3\u001b[0m\n\u001b[0;32m      1\u001b[0m new_marks \u001b[38;5;241m=\u001b[39m []\n\u001b[0;32m      2\u001b[0m \u001b[38;5;28;01mfor\u001b[39;00m i \u001b[38;5;129;01min\u001b[39;00m marks:\n\u001b[1;32m----> 3\u001b[0m \tnew_marks\u001b[38;5;241m.\u001b[39mappend((i \u001b[38;5;241m-\u001b[39m mean_marks) \u001b[38;5;241m/\u001b[39m std)\n\u001b[0;32m      4\u001b[0m \u001b[38;5;28mprint\u001b[39m(\u001b[38;5;124m\"\u001b[39m\u001b[38;5;124mStandardized marks are\u001b[39m\u001b[38;5;124m\"\u001b[39m, new_marks)\n",
      "\u001b[1;31mZeroDivisionError\u001b[0m: float division by zero"
     ]
    }
   ],
   "source": [
    "new_marks = []\n",
    "for i in marks:\n",
    "\tnew_marks.append((i - mean_marks) / std)\n",
    "print(\"Standardized marks are\", new_marks)"
   ]
  },
  {
   "cell_type": "code",
   "execution_count": null,
   "id": "fa792f81",
   "metadata": {},
   "outputs": [],
   "source": []
  }
 ],
 "metadata": {
  "kernelspec": {
   "display_name": "base",
   "language": "python",
   "name": "python3"
  },
  "language_info": {
   "codemirror_mode": {
    "name": "ipython",
    "version": 3
   },
   "file_extension": ".py",
   "mimetype": "text/x-python",
   "name": "python",
   "nbconvert_exporter": "python",
   "pygments_lexer": "ipython3",
   "version": "3.12.7"
  }
 },
 "nbformat": 4,
 "nbformat_minor": 5
}
