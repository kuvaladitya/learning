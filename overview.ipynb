{
 "cells": [
  {
   "cell_type": "markdown",
   "id": "8f20e0e5",
   "metadata": {},
   "source": [
    "# this is just the start"
   ]
  },
  {
   "cell_type": "code",
   "execution_count": 10,
   "id": "045adb07-de50-4694-918f-a8713974d713",
   "metadata": {},
   "outputs": [
    {
     "name": "stdout",
     "output_type": "stream",
     "text": [
      "0\n",
      "hello\n"
     ]
    }
   ],
   "source": [
    "a= 10\n",
    "b=20\n",
    "\n",
    "print(a +a-b)\n",
    "\n",
    "\n",
    "print(\"hello\")"
   ]
  },
  {
   "cell_type": "markdown",
   "id": "4e78537f",
   "metadata": {},
   "source": [
    "# learn basics\n",
    "<center>i am center element<center>"
   ]
  },
  {
   "cell_type": "code",
   "execution_count": null,
   "id": "f6c7daf7",
   "metadata": {},
   "outputs": [],
   "source": []
  },
  {
   "cell_type": "code",
   "execution_count": null,
   "id": "4bf14760",
   "metadata": {},
   "outputs": [],
   "source": []
  },
  {
   "cell_type": "markdown",
   "id": "e2a19911",
   "metadata": {},
   "source": [
    "# data structure \n",
    " - list\n",
    " - tuple\n",
    " - sets"
   ]
  },
  {
   "cell_type": "markdown",
   "id": "77499723",
   "metadata": {},
   "source": []
  }
 ],
 "metadata": {
  "kernelspec": {
   "display_name": "base",
   "language": "python",
   "name": "python3"
  },
  "language_info": {
   "codemirror_mode": {
    "name": "ipython",
    "version": 3
   },
   "file_extension": ".py",
   "mimetype": "text/x-python",
   "name": "python",
   "nbconvert_exporter": "python",
   "pygments_lexer": "ipython3",
   "version": "3.12.7"
  }
 },
 "nbformat": 4,
 "nbformat_minor": 5
}
