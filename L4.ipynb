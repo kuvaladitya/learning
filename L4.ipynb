{
 "cells": [
  {
   "cell_type": "code",
   "execution_count": 28,
   "id": "d24c9d64",
   "metadata": {},
   "outputs": [],
   "source": [
    "from tabulate import tabulate\n",
    "\n",
    "class human():\n",
    "    OpenDatabase =[]\n",
    "    population = 0\n",
    "    id_sequence = 101\n",
    "    \n",
    "    def __init__(self, name, age, is_alive=True):\n",
    "        self.is_alive = is_alive\n",
    "        self.name = name\n",
    "        self.age = age\n",
    "        self.id = human.id_sequence\n",
    "        human.id_sequence += 1    \n",
    "        human.population += 1\n",
    "        human.OpenDatabase.append(self)\n",
    "    \n",
    "    def introduce(self):\n",
    "        print(\"hi, my name is\", self.name, \"and my age is\", self.age)\n",
    "        \n",
    "    \n",
    "    def die(self):\n",
    "      if self.is_alive == False:\n",
    "        self.is_alive = False\n",
    "        human.population -= 1\n",
    "        print(self.name, \"is dead\")\n",
    "      else:\n",
    "        print(self.name, \"is already dead\")  \n",
    "        \n",
    "    def __repr__(self):\n",
    "        return f\"({self.name}, {self.age}, {self.is_alive})\""
   ]
  },
  {
   "cell_type": "code",
   "execution_count": 29,
   "id": "0c6c2332",
   "metadata": {},
   "outputs": [],
   "source": [
    "h1= human(\"sahil\", 22, True)\n",
    "h2= human(\"rahul\", 12, False)\n",
    "h3= human(\"sachin\", 32, True)"
   ]
  },
  {
   "cell_type": "code",
   "execution_count": 30,
   "id": "371f0d01",
   "metadata": {},
   "outputs": [
    {
     "name": "stdout",
     "output_type": "stream",
     "text": [
      "rahul is dead\n"
     ]
    }
   ],
   "source": [
    "h2.die()"
   ]
  },
  {
   "cell_type": "code",
   "execution_count": 31,
   "id": "25fd032d",
   "metadata": {},
   "outputs": [
    {
     "data": {
      "text/plain": [
       "2"
      ]
     },
     "execution_count": 31,
     "metadata": {},
     "output_type": "execute_result"
    }
   ],
   "source": [
    "human.population"
   ]
  },
  {
   "cell_type": "code",
   "execution_count": 23,
   "id": "e975ef40",
   "metadata": {},
   "outputs": [
    {
     "data": {
      "text/plain": [
       "(sahil, 22, True)"
      ]
     },
     "execution_count": 23,
     "metadata": {},
     "output_type": "execute_result"
    }
   ],
   "source": [
    "h1"
   ]
  },
  {
   "cell_type": "code",
   "execution_count": null,
   "id": "0ec6a4dd",
   "metadata": {},
   "outputs": [
    {
     "name": "stdout",
     "output_type": "stream",
     "text": [
      "sahil is already dead\n"
     ]
    }
   ],
   "source": [
    "h1.die()"
   ]
  },
  {
   "cell_type": "code",
   "execution_count": 32,
   "id": "a7a79cac",
   "metadata": {},
   "outputs": [
    {
     "data": {
      "text/plain": [
       "104"
      ]
     },
     "execution_count": 32,
     "metadata": {},
     "output_type": "execute_result"
    }
   ],
   "source": [
    "human.id_sequence"
   ]
  },
  {
   "cell_type": "code",
   "execution_count": 33,
   "id": "463cb071",
   "metadata": {},
   "outputs": [
    {
     "data": {
      "text/plain": [
       "2"
      ]
     },
     "execution_count": 33,
     "metadata": {},
     "output_type": "execute_result"
    }
   ],
   "source": [
    "human.population"
   ]
  },
  {
   "cell_type": "code",
   "execution_count": null,
   "id": "f7663711",
   "metadata": {},
   "outputs": [],
   "source": []
  }
 ],
 "metadata": {
  "kernelspec": {
   "display_name": "base",
   "language": "python",
   "name": "python3"
  },
  "language_info": {
   "codemirror_mode": {
    "name": "ipython",
    "version": 3
   },
   "file_extension": ".py",
   "mimetype": "text/x-python",
   "name": "python",
   "nbconvert_exporter": "python",
   "pygments_lexer": "ipython3",
   "version": "3.12.7"
  }
 },
 "nbformat": 4,
 "nbformat_minor": 5
}
